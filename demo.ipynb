{
 "cells": [
  {
   "cell_type": "markdown",
   "metadata": {},
   "source": [
    "## Transfer Learning Demo\n",
    "\n",
    "This is a very simple demo to show how linear supervised transfer learning works. For more information about the approach, please refer to the README or to [Paaßen et al. (2018)](https://arxiv.org/abs/1711.09256).\n",
    "\n",
    "In this demo, we consider a two-dimensional data set of three Gaussian clusters, one per class, ordered along a line."
   ]
  },
  {
   "cell_type": "code",
   "execution_count": 1,
   "metadata": {},
   "outputs": [
    {
     "data": {
      "text/plain": [
       "<Figure size 640x480 with 1 Axes>"
      ]
     },
     "metadata": {},
     "output_type": "display_data"
    }
   ],
   "source": [
    "# generate the source space data\n",
    "import numpy as np\n",
    "X = np.random.randn(300, 2) * 0.2\n",
    "y = np.concatenate([-np.ones((100)), np.zeros((100)), np.ones((100))])\n",
    "X[:, 0] -= y\n",
    "\n",
    "# show the dataset\n",
    "import matplotlib.pyplot as plt\n",
    "plt.scatter(X[:, 0], X[:, 1], c=y)\n",
    "plt.gca().set_aspect('equal', adjustable='box')\n",
    "plt.show()"
   ]
  },
  {
   "cell_type": "markdown",
   "metadata": {},
   "source": [
    "In a first step, we need to construct a model of the density in the source space. We do this via a labelled Gaussian mixture model. The necessary methods to train such a model are part of this library."
   ]
  },
  {
   "cell_type": "code",
   "execution_count": 2,
   "metadata": {},
   "outputs": [
    {
     "name": "stderr",
     "output_type": "stream",
     "text": [
      "/usr/lib64/python3.7/site-packages/sklearn/utils/__init__.py:4: DeprecationWarning: Using or importing the ABCs from 'collections' instead of from 'collections.abc' is deprecated, and in 3.8 it will stop working\n",
      "  from collections import Sequence\n"
     ]
    }
   ],
   "source": [
    "import lgmm\n",
    "model = lgmm.SLGMM()\n",
    "# fit this model to the data\n",
    "model = model.fit(X, y)"
   ]
  },
  {
   "cell_type": "markdown",
   "metadata": {},
   "source": [
    "Our target data has the same marginal density $p(\\vec x)$, but the conditional distribution $P(y|\\vec x)$ is flipped. As such, unsupervised methods are necessarily unable to learn the transfer function."
   ]
  },
  {
   "cell_type": "code",
   "execution_count": 3,
   "metadata": {},
   "outputs": [
    {
     "data": {
      "image/png": "[encoded data removed]",
      "text/plain": [
       "<Figure size 432x288 with 1 Axes>"
      ]
     },
     "metadata": {
      "needs_background": "light"
     },
     "output_type": "display_data"
    }
   ],
   "source": [
    "# generate the target space data\n",
    "import numpy as np\n",
    "Xtar = np.random.randn(30, 2) * 0.2\n",
    "ytar = np.concatenate([-np.ones((10)), np.zeros((10)), np.ones((10))])\n",
    "Xtar[:, 0] += ytar\n",
    "\n",
    "# show the dataset\n",
    "plt.scatter(Xtar[:, 0], Xtar[:, 1], c=ytar)\n",
    "plt.gca().set_aspect('equal', adjustable='box')\n",
    "plt.show()"
   ]
  },
  {
   "cell_type": "markdown",
   "metadata": {},
   "source": [
    "We now perform transfer learning to map the target space data to the source space. This is done by maximizing the likelihood of the target space data according to the model we learned in the source space."
   ]
  },
  {
   "cell_type": "code",
   "execution_count": 4,
   "metadata": {},
   "outputs": [
    {
     "data": {
      "image/png": "[encoded data removed]",
      "text/plain": [
       "<Figure size 432x288 with 1 Axes>"
      ]
     },
     "metadata": {
      "needs_background": "light"
     },
     "output_type": "display_data"
    }
   ],
   "source": [
    "# initialize a transfer learning model\n",
    "import transfer_learning\n",
    "tl_model = transfer_learning.SLGMM_transfer_model(model)\n",
    "# fit it to the data\n",
    "tl_model.fit(Xtar, ytar)\n",
    "# predict the position of the data in the source space\n",
    "Xtrans = tl_model.predict(Xtar)\n",
    "plt.scatter(Xtrans[:, 0], Xtrans[:, 1], c=ytar)\n",
    "plt.gca().set_aspect('equal', adjustable='box')\n",
    "plt.show()"
   ]
  },
  {
   "cell_type": "markdown",
   "metadata": {},
   "source": [
    "And indeed, the data are mapped to their original position. Note how the second dimension is squashed to minimize the distance of the data to the Gaussian mean.\n",
    "\n",
    "Interestingly, because our learned transfer function generalizes across classes, we do not even need training data from all classes for transfer learning. For example, we can select the +1 class and still learn the correct function."
   ]
  },
  {
   "cell_type": "code",
   "execution_count": 5,
   "metadata": {},
   "outputs": [
    {
     "data": {
      "image/png": "[encoded data removed]",
      "text/plain": [
       "<Figure size 432x288 with 1 Axes>"
      ]
     },
     "metadata": {
      "needs_background": "light"
     },
     "output_type": "display_data"
    }
   ],
   "source": [
    "# fit it to the data, but with only two classes instead of all three\n",
    "tl_model.fit(Xtar[ytar < 1], ytar[ytar < 1])\n",
    "# predict the position of the data in the source space\n",
    "Xtrans = tl_model.predict(Xtar)\n",
    "plt.scatter(Xtrans[:, 0], Xtrans[:, 1], c=ytar)\n",
    "plt.gca().set_aspect('equal', adjustable='box')\n",
    "plt.show()"
   ]
  }
 ],
 "metadata": {
  "kernelspec": {
   "display_name": "Python 3",
   "language": "python",
   "name": "python3"
  },
  "language_info": {
   "codemirror_mode": {
    "name": "ipython",
    "version": 3
   },
   "file_extension": ".py",
   "mimetype": "text/x-python",
   "name": "python",
   "nbconvert_exporter": "python",
   "pygments_lexer": "ipython3",
   "version": "3.7.3"
  }
 },
 "nbformat": 4,
 "nbformat_minor": 2
}
